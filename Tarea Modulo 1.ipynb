{
 "cells": [
  {
   "cell_type": "markdown",
   "metadata": {},
   "source": [
    "# Rastreador de fecha actual"
   ]
  },
  {
   "cell_type": "code",
   "execution_count": 32,
   "metadata": {},
   "outputs": [
    {
     "data": {
      "application/vnd.jupyter.widget-view+json": {
       "model_id": "9dca78f1cedd4ec0b40cc54c4cf4dff7",
       "version_major": 2,
       "version_minor": 0
      },
      "text/plain": [
       "Button(button_style='success', description='Iniciar rastreador', icon='rocket', style=ButtonStyle(), tooltip='…"
      ]
     },
     "metadata": {},
     "output_type": "display_data"
    },
    {
     "data": {
      "application/vnd.jupyter.widget-view+json": {
       "model_id": "d82a979a713845b68cb40028dca76c3f",
       "version_major": 2,
       "version_minor": 0
      },
      "text/plain": [
       "Output()"
      ]
     },
     "metadata": {},
     "output_type": "display_data"
    }
   ],
   "source": [
    "import ipywidgets as widgets\n",
    "from datetime import date\n",
    "\n",
    "ignition = widgets.Button(\n",
    "    value=False,\n",
    "    description='Iniciar rastreador',\n",
    "    button_style='success',\n",
    "    tooltip='Da click para obtener la fecha',\n",
    "    icon='rocket'\n",
    ")\n",
    "\n",
    "output = widgets.Output()\n",
    "\n",
    "display(ignition, output)\n",
    "\n",
    "def on_button_clicked(b):\n",
    "    with output:\n",
    "        print(\"Hoy es\", date.today())\n",
    "            \n",
    "ignition.on_click(on_button_clicked)"
   ]
  },
  {
   "cell_type": "markdown",
   "metadata": {},
   "source": [
    "# Construir un convertidor de unidades"
   ]
  },
  {
   "cell_type": "code",
   "execution_count": 13,
   "metadata": {},
   "outputs": [
    {
     "data": {
      "application/vnd.jupyter.widget-view+json": {
       "model_id": "4fbe8878dc094f7ca6fff51b4eb8edac",
       "version_major": 2,
       "version_minor": 0
      },
      "text/plain": [
       "Text(value='2.0', description='Distancia:', placeholder='Esribe la distancia')"
      ]
     },
     "metadata": {},
     "output_type": "display_data"
    },
    {
     "data": {
      "application/vnd.jupyter.widget-view+json": {
       "model_id": "b3ec6e60d679420890095674581c41ac",
       "version_major": 2,
       "version_minor": 0
      },
      "text/plain": [
       "Output()"
      ]
     },
     "metadata": {},
     "output_type": "display_data"
    },
    {
     "data": {
      "application/vnd.jupyter.widget-view+json": {
       "model_id": "407a3d2c6ae74df0835360970549266e",
       "version_major": 2,
       "version_minor": 0
      },
      "text/plain": [
       "Text(value='0.613203497712751', description='Resultado:', placeholder='Esribe la distancia')"
      ]
     },
     "metadata": {},
     "output_type": "display_data"
    },
    {
     "data": {
      "application/vnd.jupyter.widget-view+json": {
       "model_id": "b3ec6e60d679420890095674581c41ac",
       "version_major": 2,
       "version_minor": 0
      },
      "text/plain": [
       "Output()"
      ]
     },
     "metadata": {},
     "output_type": "display_data"
    }
   ],
   "source": [
    "from ipywidgets import widgets\n",
    "sel = 10\n",
    "while sel>2 or sel<1:\n",
    "    \n",
    "    sel = int(input(\"seleccioa una opcion: \\n[1] Parsec a AL\\n[2] AL a Parsec\"))\n",
    "    if sel>2 or sel<1:\n",
    "        print(\"opcion incorrecta\")\n",
    "Dist = float(input(\"distancia?\"))\n",
    "if sel == 1:\n",
    "    Valor = Dist/3.26156 \n",
    "else :\n",
    "    Valor = Dist*3.26156 \n",
    "\n",
    "    \n",
    "Distancia = widgets.Text(value=str(Dist),\n",
    "    placeholder='Esribe la distancia',\n",
    "    description='Distancia:',\n",
    "    disabled=False)\n",
    "\n",
    "\n",
    "output = widgets.Output()\n",
    "\n",
    "display(Distancia, output)\n",
    "\n",
    "Resultado = widgets.Text(value=str(Valor),\n",
    "    placeholder='Esribe la distancia',\n",
    "    description='Resultado:',\n",
    "    disabled=False)\n",
    "\n",
    "display(Resultado, output)\n",
    "\n",
    "\n"
   ]
  }
 ],
 "metadata": {
  "interpreter": {
   "hash": "43ff65a89338dbd230192fd452419bd00f9742827d9212a513d880943dd6dd8a"
  },
  "kernelspec": {
   "display_name": "Python 3.10.2 64-bit",
   "language": "python",
   "name": "python3"
  },
  "language_info": {
   "codemirror_mode": {
    "name": "ipython",
    "version": 3
   },
   "file_extension": ".py",
   "mimetype": "text/x-python",
   "name": "python",
   "nbconvert_exporter": "python",
   "pygments_lexer": "ipython3",
   "version": "3.10.2"
  },
  "orig_nbformat": 4
 },
 "nbformat": 4,
 "nbformat_minor": 2
}
